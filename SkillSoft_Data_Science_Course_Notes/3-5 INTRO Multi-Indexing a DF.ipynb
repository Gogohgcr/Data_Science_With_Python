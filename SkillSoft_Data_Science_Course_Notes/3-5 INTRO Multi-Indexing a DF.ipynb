{
 "cells": [
  {
   "cell_type": "markdown",
   "metadata": {},
   "source": [
    "# MultIndex\n",
    "\n",
    "Known as a hierarchical index, it defines various levels of indices, which lets\n",
    "you effectively store an manipulate higher dimension data in a 2Dimensional tabular structure. \n",
    "\n",
    "\n",
    "Index in a dataframe works like a primary key in the database table that aldo works as identifyers\n",
    "\n",
    "Some times there will not be identifiers so it require a conbination of columns in order to set a key idetification. \n",
    "This is called MultiIdexing\n",
    "\n",
    "   MAKE    TYPE      Origin\n",
    "1 Toyota  Sedan      Japan\n",
    "2 Toyota  Sedan      Japan\n",
    "3 BMW     Hatchback  Germany\n",
    "4 BMW     Hatchback  Germany\n",
    "5 Audi    Sedan      Germany\n",
    "\n",
    "\n",
    "In the table above the current index cannot be an identifyier because it has multiple Toyotas with different Index. \n",
    "So it will be better to have an Index of TOYOTA\n",
    " such as follows. \n",
    "       \n",
    "TOYOTA SEDAN     Japan\n",
    "       SEDAN     Japan\n",
    "BMW   Hatchback  Germany\n",
    "      Hatchback  Germany\n",
    "Audi   Sedan     Germany\n",
    "\n",
    "\n",
    "HOwever just the make doesn't make higher differenct to identify an specific car so it comes the combination \n",
    "of another  un this case TYPE\n",
    "\n",
    "TOYOTA SEDAN     Japan\n",
    "                 Japan\n",
    "BMW   Hatchback  Germany\n",
    "                 Germany\n",
    "Audi   Sedan     Germany\n",
    "\n",
    "\n",
    "Bacause of selecting a variable to be primary and then other behid to it, the MultiIndexing is called hirarchy indexing.\n",
    "Each of the columns indexed are called Levels \n"
   ]
  },
  {
   "cell_type": "code",
   "execution_count": null,
   "metadata": {},
   "outputs": [],
   "source": []
  }
 ],
 "metadata": {
  "kernelspec": {
   "display_name": "Python 3",
   "language": "python",
   "name": "python3"
  },
  "language_info": {
   "codemirror_mode": {
    "name": "ipython",
    "version": 3
   },
   "file_extension": ".py",
   "mimetype": "text/x-python",
   "name": "python",
   "nbconvert_exporter": "python",
   "pygments_lexer": "ipython3",
   "version": "3.7.0"
  }
 },
 "nbformat": 4,
 "nbformat_minor": 2
}
