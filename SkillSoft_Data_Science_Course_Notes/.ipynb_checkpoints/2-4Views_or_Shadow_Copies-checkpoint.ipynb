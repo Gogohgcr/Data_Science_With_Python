{
 "cells": [
  {
   "cell_type": "code",
   "execution_count": 1,
   "metadata": {},
   "outputs": [],
   "source": [
    "import numpy as np\n",
    "\n",
    "from IPython.core.interactiveshell import InteractiveShell\n",
    "InteractiveShell.ast_node_interactivity = \"all\""
   ]
  },
  {
   "cell_type": "code",
   "execution_count": 2,
   "metadata": {},
   "outputs": [
    {
     "data": {
      "text/plain": [
       "array(['India', 'Peru', 'USA', 'Nigeria', 'Pakistan', 'Germany'],\n",
       "      dtype='<U8')"
      ]
     },
     "execution_count": 2,
     "metadata": {},
     "output_type": "execute_result"
    }
   ],
   "source": [
    "#Create an array \n",
    "\n",
    "countries = np.array(['India','Peru','USA','Nigeria','Pakistan','Germany'])\n",
    "countries"
   ]
  },
  {
   "cell_type": "code",
   "execution_count": 4,
   "metadata": {
    "scrolled": true
   },
   "outputs": [
    {
     "data": {
      "text/plain": [
       "array(['India', 'Peru', 'USA', 'Nigeria', 'Pakistan', 'Germany'],\n",
       "      dtype='<U8')"
      ]
     },
     "execution_count": 4,
     "metadata": {},
     "output_type": "execute_result"
    },
    {
     "data": {
      "text/plain": [
       "array(['India', 'Peru', 'USA', 'Nigeria', 'Pakistan', 'Germany'],\n",
       "      dtype='<U8')"
      ]
     },
     "execution_count": 4,
     "metadata": {},
     "output_type": "execute_result"
    }
   ],
   "source": [
    "#Now Lets create views\n",
    "\n",
    "loc_1 = countries.view()\n",
    "loc_2 = countries.view()\n",
    "\n",
    "loc_1\n",
    "loc_2\n",
    "\n",
    "# It contains the exact same contenst"
   ]
  },
  {
   "cell_type": "code",
   "execution_count": 11,
   "metadata": {},
   "outputs": [
    {
     "name": "stdout",
     "output_type": "stream",
     "text": [
      "IDs for the Arrays are Different :\n",
      "\n",
      "ID For the countries is : 2421995128992\n",
      "\n",
      "IDs for the loc`s views are : \n",
      " 2421995246576 \n",
      " 2421995246176\n"
     ]
    }
   ],
   "source": [
    "#However they are not identical because of its identification as shown below.\n",
    "\n",
    "print('IDs for the Arrays are Different :')\n",
    "print('\\nID For the countries is :', id(countries))\n",
    "\n",
    "print('\\nIDs for the loc`s views are :', '\\n',id(loc_1), '\\n', id(loc_2))"
   ]
  },
  {
   "cell_type": "code",
   "execution_count": 12,
   "metadata": {},
   "outputs": [
    {
     "data": {
      "text/plain": [
       "False"
      ]
     },
     "execution_count": 12,
     "metadata": {},
     "output_type": "execute_result"
    }
   ],
   "source": [
    "#Also we can as if are the same, result become false\n",
    "\n",
    "loc_1 is countries"
   ]
  },
  {
   "cell_type": "code",
   "execution_count": 13,
   "metadata": {},
   "outputs": [
    {
     "data": {
      "text/plain": [
       "True"
      ]
     },
     "execution_count": 13,
     "metadata": {},
     "output_type": "execute_result"
    }
   ],
   "source": [
    "#However it source or base keep being countries\n",
    "\n",
    "loc_1.base is countries"
   ]
  },
  {
   "cell_type": "code",
   "execution_count": 15,
   "metadata": {},
   "outputs": [
    {
     "data": {
      "text/plain": [
       "array(['India', 'Peru', 'USA', 'Ghana', 'Pakistan', 'Germany'],\n",
       "      dtype='<U8')"
      ]
     },
     "execution_count": 15,
     "metadata": {},
     "output_type": "execute_result"
    },
    {
     "data": {
      "text/plain": [
       "array(['India', 'Peru', 'USA', 'Ghana', 'Pakistan', 'Germany'],\n",
       "      dtype='<U8')"
      ]
     },
     "execution_count": 15,
     "metadata": {},
     "output_type": "execute_result"
    },
    {
     "data": {
      "text/plain": [
       "array(['India', 'Peru', 'USA', 'Ghana', 'Pakistan', 'Germany'],\n",
       "      dtype='<U8')"
      ]
     },
     "execution_count": 15,
     "metadata": {},
     "output_type": "execute_result"
    }
   ],
   "source": [
    "#What happpen if we modify an element of the views.\n",
    "\n",
    "loc_2[3] = 'Ghana'\n",
    "loc_2\n",
    "\n",
    "#The views are synchronized in between or not indipendent so if 1 is modifies the other will be also, even the source array.\n",
    "loc_1\n",
    "countries\n",
    "\n"
   ]
  },
  {
   "cell_type": "code",
   "execution_count": 17,
   "metadata": {},
   "outputs": [
    {
     "data": {
      "text/plain": [
       "array(['France', 'Iran', 'Australia', 'Mexico', 'Cuba', 'Egypt'],\n",
       "      dtype='<U9')"
      ]
     },
     "execution_count": 17,
     "metadata": {},
     "output_type": "execute_result"
    },
    {
     "data": {
      "text/plain": [
       "array(['India', 'Peru', 'USA', 'Ghana', 'Pakistan', 'Germany'],\n",
       "      dtype='<U8')"
      ]
     },
     "execution_count": 17,
     "metadata": {},
     "output_type": "execute_result"
    }
   ],
   "source": [
    "#If we do not want to this synchronization between arrays then a new array need to be created \n",
    "\n",
    "loc_1 = np.array(['France','Iran','Australia','Mexico','Cuba','Egypt'])\n",
    "loc_1\n",
    "\n",
    "#so the source array not be modified\n",
    "countries"
   ]
  },
  {
   "cell_type": "code",
   "execution_count": 18,
   "metadata": {},
   "outputs": [
    {
     "name": "stdout",
     "output_type": "stream",
     "text": [
      "Shape of Loc_2: (2, 3)\n",
      "Contents:\n",
      " [['India' 'Peru' 'USA']\n",
      " ['Ghana' 'Pakistan' 'Germany']]\n"
     ]
    }
   ],
   "source": [
    "#What happen if we modify the shape of a view. \n",
    "\n",
    "loc_2.shape= 2,3\n",
    "\n",
    "print('Shape of Loc_2:', loc_2.shape)\n",
    "print('Contents:\\n', loc_2)\n"
   ]
  },
  {
   "cell_type": "code",
   "execution_count": 20,
   "metadata": {},
   "outputs": [
    {
     "name": "stdout",
     "output_type": "stream",
     "text": [
      "Shape of Loc_2: (6,)\n",
      "Contents:\n",
      " ['India' 'Peru' 'USA' 'Ghana' 'Pakistan' 'Germany']\n"
     ]
    }
   ],
   "source": [
    "# it doesn't modify the original array\n",
    "# So views are conected by their content not their shape.\n",
    "\n",
    "print('Shape of Loc_2:', countries.shape)\n",
    "print('Contents:\\n', countries)"
   ]
  }
 ],
 "metadata": {
  "kernelspec": {
   "display_name": "Python 3",
   "language": "python",
   "name": "python3"
  },
  "language_info": {
   "codemirror_mode": {
    "name": "ipython",
    "version": 3
   },
   "file_extension": ".py",
   "mimetype": "text/x-python",
   "name": "python",
   "nbconvert_exporter": "python",
   "pygments_lexer": "ipython3",
   "version": "3.7.0"
  }
 },
 "nbformat": 4,
 "nbformat_minor": 2
}
