{
 "cells": [
  {
   "cell_type": "code",
   "execution_count": 1,
   "metadata": {},
   "outputs": [],
   "source": [
    "import numpy as np\n",
    "import csv\n",
    "\n",
    "from IPython.core.interactiveshell import InteractiveShell\n",
    "InteractiveShell.ast_node_interactivity = \"all\""
   ]
  },
  {
   "cell_type": "code",
   "execution_count": 2,
   "metadata": {},
   "outputs": [
    {
     "data": {
      "text/plain": [
       "array([  0,   1,   4,   9,  16,  25,  36,  49,  64,  81, 100, 121, 144,\n",
       "       169], dtype=int32)"
      ]
     },
     "execution_count": 2,
     "metadata": {},
     "output_type": "execute_result"
    }
   ],
   "source": [
    "#Creating an array of 14 values\n",
    "\n",
    "x = np.arange(14)**2\n",
    "x"
   ]
  },
  {
   "cell_type": "code",
   "execution_count": 3,
   "metadata": {},
   "outputs": [
    {
     "data": {
      "text/plain": [
       "(9, 49, 81, 169)"
      ]
     },
     "execution_count": 3,
     "metadata": {},
     "output_type": "execute_result"
    }
   ],
   "source": [
    "#We can do simple indexing such as \n",
    "\n",
    "x[3], x[7], x[9], x[13]"
   ]
  },
  {
   "cell_type": "code",
   "execution_count": 4,
   "metadata": {},
   "outputs": [
    {
     "data": {
      "text/plain": [
       "[3, 7, 9, 13]"
      ]
     },
     "execution_count": 4,
     "metadata": {},
     "output_type": "execute_result"
    }
   ],
   "source": [
    "#Here we are creating a list of index values (mask) in order to complete an indexing\n",
    "\n",
    "mask_1 = [3,7,9,13]\n",
    "mask_1"
   ]
  },
  {
   "cell_type": "code",
   "execution_count": 5,
   "metadata": {},
   "outputs": [
    {
     "data": {
      "text/plain": [
       "array([  9,  49,  81, 169], dtype=int32)"
      ]
     },
     "execution_count": 5,
     "metadata": {},
     "output_type": "execute_result"
    }
   ],
   "source": [
    "#We are calling the mask to be applied in our original array, so it will return the same values because takes \n",
    "# the mask values as index positions (Starting from 0)\n",
    "# This is exaclty called Sansi Indexing is. \n",
    "\n",
    "x[mask_1]"
   ]
  },
  {
   "cell_type": "code",
   "execution_count": 8,
   "metadata": {},
   "outputs": [
    {
     "data": {
      "text/plain": [
       "array([[3, 5],\n",
       "       [2, 8]])"
      ]
     },
     "execution_count": 8,
     "metadata": {},
     "output_type": "execute_result"
    },
    {
     "data": {
      "text/plain": [
       "array([[ 9, 25],\n",
       "       [ 4, 64]], dtype=int32)"
      ]
     },
     "execution_count": 8,
     "metadata": {},
     "output_type": "execute_result"
    }
   ],
   "source": [
    "# what about if we create a 2D mask\n",
    "\n",
    "mask_2 = np.array([[3,5],[2,8]])\n",
    "mask_2\n",
    "\n",
    "\n",
    "#TEstin with the original array X\n",
    "# It will show the values of the position specified in the mask_2 as its values are considering postions. \n",
    "\n",
    "x[mask_2]"
   ]
  },
  {
   "cell_type": "code",
   "execution_count": 11,
   "metadata": {},
   "outputs": [
    {
     "data": {
      "text/plain": [
       "array([['Sydney', 'Auckland', 'Vancouver'],\n",
       "       ['Lima', 'Bogota', 'Losbon'],\n",
       "       ['Istanbul', 'Tehran', 'Colombo']], dtype='<U9')"
      ]
     },
     "execution_count": 11,
     "metadata": {},
     "output_type": "execute_result"
    }
   ],
   "source": [
    "#Now lets create an 2D array 3x3\n",
    "\n",
    "cities = np.array([['Sydney','Auckland','Vancouver'],\n",
    "                  ['Lima', 'Bogota', 'Losbon'],\n",
    "                  ['Istanbul','Tehran', 'Colombo']])\n",
    "\n",
    "cities"
   ]
  },
  {
   "cell_type": "code",
   "execution_count": 12,
   "metadata": {},
   "outputs": [],
   "source": [
    "# Do access a to 2D Array we need to create 2 Masks\n",
    "\n",
    "row = np.array([[0,0],[2,2]]) #This has the coordenates of the rows\n",
    "col = np.array([[0,2],[0,0]]) #This has the coordenates of the columns\n",
    "\n"
   ]
  },
  {
   "cell_type": "code",
   "execution_count": 13,
   "metadata": {},
   "outputs": [
    {
     "data": {
      "text/plain": [
       "array([['Sydney', 'Vancouver'],\n",
       "       ['Istanbul', 'Istanbul']], dtype='<U9')"
      ]
     },
     "execution_count": 13,
     "metadata": {},
     "output_type": "execute_result"
    }
   ],
   "source": [
    "#Accessing the original array with the 2 masks\n",
    "\n",
    "cities[row,col]\n",
    "\n",
    "'''\n",
    "                 A B   C D\n",
    "row = np.array([[0,0],[2,2]]) \n",
    "col = np.array([[0,2],[0,0]])\n",
    " \n",
    "THis works such as taking the values  (A) row and col then values in (B) then values in (C) then values in (D)\n",
    "\n",
    "'''\n"
   ]
  },
  {
   "cell_type": "code",
   "execution_count": 14,
   "metadata": {},
   "outputs": [
    {
     "data": {
      "text/plain": [
       "'Losbon'"
      ]
     },
     "execution_count": 14,
     "metadata": {},
     "output_type": "execute_result"
    }
   ],
   "source": [
    "#However after this we can keep using simple indexing \n",
    "\n",
    "cities [1,2]"
   ]
  },
  {
   "cell_type": "code",
   "execution_count": null,
   "metadata": {},
   "outputs": [],
   "source": []
  }
 ],
 "metadata": {
  "kernelspec": {
   "display_name": "Python 3",
   "language": "python",
   "name": "python3"
  },
  "language_info": {
   "codemirror_mode": {
    "name": "ipython",
    "version": 3
   },
   "file_extension": ".py",
   "mimetype": "text/x-python",
   "name": "python",
   "nbconvert_exporter": "python",
   "pygments_lexer": "ipython3",
   "version": "3.7.0"
  }
 },
 "nbformat": 4,
 "nbformat_minor": 2
}
