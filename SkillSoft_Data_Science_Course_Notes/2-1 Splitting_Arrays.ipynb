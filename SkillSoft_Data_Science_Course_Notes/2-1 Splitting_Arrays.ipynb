{
 "cells": [
  {
   "cell_type": "code",
   "execution_count": 9,
   "metadata": {},
   "outputs": [],
   "source": [
    "#https://docs.scipy.org/doc/numpy-1.15.1/reference/generated/numpy.split.html\n",
    "\n",
    "import numpy as np\n",
    "\n",
    "from IPython.core.interactiveshell import InteractiveShell\n",
    "InteractiveShell.ast_node_interactivity = \"all\""
   ]
  },
  {
   "cell_type": "code",
   "execution_count": 2,
   "metadata": {},
   "outputs": [
    {
     "data": {
      "text/plain": [
       "array([ 0,  1,  2,  3,  4,  5,  6,  7,  8,  9, 10, 11])"
      ]
     },
     "execution_count": 2,
     "metadata": {},
     "output_type": "execute_result"
    }
   ],
   "source": [
    "p = np.arange(12)\n",
    "p"
   ]
  },
  {
   "cell_type": "code",
   "execution_count": 3,
   "metadata": {},
   "outputs": [
    {
     "name": "stdout",
     "output_type": "stream",
     "text": [
      "Split the array to produce 4 equal-sized subarrays\n"
     ]
    },
    {
     "data": {
      "text/plain": [
       "[array([0, 1, 2]), array([3, 4, 5]), array([6, 7, 8]), array([ 9, 10, 11])]"
      ]
     },
     "execution_count": 3,
     "metadata": {},
     "output_type": "execute_result"
    }
   ],
   "source": [
    "print('Split the array to produce 4 equal-sized subarrays')\n",
    "np.split(p,4)"
   ]
  },
  {
   "cell_type": "code",
   "execution_count": 11,
   "metadata": {},
   "outputs": [
    {
     "data": {
      "text/plain": [
       "[array([0, 1, 2]), array([3, 4, 5, 6, 7]), array([ 8,  9, 10, 11])]"
      ]
     },
     "execution_count": 11,
     "metadata": {},
     "output_type": "execute_result"
    },
    {
     "data": {
      "text/plain": [
       "[array([0, 1, 2, 3, 4]), array([5, 6, 7, 8]), array([ 9, 10, 11])]"
      ]
     },
     "execution_count": 11,
     "metadata": {},
     "output_type": "execute_result"
    },
    {
     "data": {
      "text/plain": [
       "[array([0, 1, 2]), array([3, 4, 5, 6, 7]), array([ 8,  9, 10]), array([11])]"
      ]
     },
     "execution_count": 11,
     "metadata": {},
     "output_type": "execute_result"
    }
   ],
   "source": [
    "# When we do this split, the number defined the position that we want to split or make the cut of each split.\n",
    "\n",
    "np.split(p,[3,8])\n",
    "\n",
    "np.split(p,[5,9])\n",
    "\n",
    "np.split(p,[3,8,11])"
   ]
  },
  {
   "cell_type": "code",
   "execution_count": 14,
   "metadata": {},
   "outputs": [
    {
     "data": {
      "text/plain": [
       "array([['IBM', 'Apple INC', 'Intel', 'Sony', 'Dell', 'Akamai'],\n",
       "       ['New York', 'California', 'California', 'Texas', 'Washington',\n",
       "        'Massachusetts']], dtype='<U13')"
      ]
     },
     "execution_count": 14,
     "metadata": {},
     "output_type": "execute_result"
    }
   ],
   "source": [
    "array = np.array([('IBM','Apple INC','Intel','Sony','Dell','Akamai'),\n",
    "                  ('New York','California','California','Texas','Washington','Massachusetts')])\n",
    "\n",
    "array"
   ]
  },
  {
   "cell_type": "code",
   "execution_count": 15,
   "metadata": {},
   "outputs": [
    {
     "name": "stdout",
     "output_type": "stream",
     "text": [
      "x1: \n",
      " [['IBM' 'Apple INC' 'Intel']\n",
      " ['New York' 'California' 'California']]\n",
      "x2: \n",
      " [['Sony' 'Dell' 'Akamai']\n",
      " ['Texas' 'Washington' 'Massachusetts']]\n"
     ]
    }
   ],
   "source": [
    "# We will do a hplit = horizontal split that is columnwise\n",
    "# the parametres are the array we want to split and the amount of sections we want to split on equal sections\n",
    "# the number need to be compatible with the array size ( 6/n)\n",
    "\n",
    "x1,x2 = np.hsplit(array,2)\n",
    "\n",
    "\n",
    "print('x1: \\n',x1)\n",
    "print('x2: \\n',x2)"
   ]
  },
  {
   "cell_type": "code",
   "execution_count": 16,
   "metadata": {},
   "outputs": [
    {
     "data": {
      "text/plain": [
       "[array([['IBM'],\n",
       "        ['New York']], dtype='<U13'), array([['Apple INC'],\n",
       "        ['California']], dtype='<U13'), array([['Intel'],\n",
       "        ['California']], dtype='<U13'), array([['Sony'],\n",
       "        ['Texas']], dtype='<U13'), array([['Dell'],\n",
       "        ['Washington']], dtype='<U13'), array([['Akamai'],\n",
       "        ['Massachusetts']], dtype='<U13')]"
      ]
     },
     "execution_count": 16,
     "metadata": {},
     "output_type": "execute_result"
    }
   ],
   "source": [
    "# as we have an array of 6 values, if we split into 6 then will create the individual arrays \n",
    "np.hsplit(array,6)"
   ]
  },
  {
   "cell_type": "code",
   "execution_count": 18,
   "metadata": {},
   "outputs": [
    {
     "name": "stdout",
     "output_type": "stream",
     "text": [
      "y1: \n",
      " [['IBM' 'Apple INC' 'Intel' 'Sony' 'Dell' 'Akamai']]\n",
      "y2: \n",
      " [['New York' 'California' 'California' 'Texas' 'Washington'\n",
      "  'Massachusetts']]\n"
     ]
    }
   ],
   "source": [
    "# Now do vertical split that is row_wise\n",
    "# corte el array en 2 de manera vertical o en los rows b\n",
    "y1, y2 = np.vsplit(array, 2)\n",
    "\n",
    "print('y1: \\n',y1)\n",
    "print('y2: \\n',y2)"
   ]
  },
  {
   "cell_type": "code",
   "execution_count": null,
   "metadata": {},
   "outputs": [],
   "source": []
  }
 ],
 "metadata": {
  "kernelspec": {
   "display_name": "Python 3",
   "language": "python",
   "name": "python3"
  },
  "language_info": {
   "codemirror_mode": {
    "name": "ipython",
    "version": 3
   },
   "file_extension": ".py",
   "mimetype": "text/x-python",
   "name": "python",
   "nbconvert_exporter": "python",
   "pygments_lexer": "ipython3",
   "version": "3.7.0"
  }
 },
 "nbformat": 4,
 "nbformat_minor": 2
}
