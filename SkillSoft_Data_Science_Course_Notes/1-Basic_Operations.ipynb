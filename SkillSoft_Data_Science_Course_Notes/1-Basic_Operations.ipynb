{
 "cells": [
  {
   "cell_type": "code",
   "execution_count": 25,
   "metadata": {},
   "outputs": [],
   "source": [
    "import numpy as np\n",
    "\n",
    "from IPython.core.interactiveshell import InteractiveShell\n",
    "InteractiveShell.ast_node_interactivity = \"all\""
   ]
  },
  {
   "cell_type": "code",
   "execution_count": 2,
   "metadata": {},
   "outputs": [],
   "source": [
    "p = np.array([9,8,7])\n",
    "q = np.array([3,2,4])\n"
   ]
  },
  {
   "cell_type": "code",
   "execution_count": 3,
   "metadata": {},
   "outputs": [
    {
     "data": {
      "text/plain": [
       "array([12, 10, 11])"
      ]
     },
     "execution_count": 3,
     "metadata": {},
     "output_type": "execute_result"
    }
   ],
   "source": [
    "p+q\n",
    "# This will sum both array to become sunnung element by element on its order.\n",
    "# such as 9+3 =12 , 8+2=10, 7+4=11\n"
   ]
  },
  {
   "cell_type": "code",
   "execution_count": 4,
   "metadata": {},
   "outputs": [
    {
     "data": {
      "text/plain": [
       "array([6, 6, 3])"
      ]
     },
     "execution_count": 4,
     "metadata": {},
     "output_type": "execute_result"
    }
   ],
   "source": [
    "p-q"
   ]
  },
  {
   "cell_type": "code",
   "execution_count": 5,
   "metadata": {},
   "outputs": [
    {
     "data": {
      "text/plain": [
       "array([1, 0, 1], dtype=int32)"
      ]
     },
     "execution_count": 5,
     "metadata": {},
     "output_type": "execute_result"
    }
   ],
   "source": [
    "# MOdulo formula a%n\n",
    "# This formula is read \"p\" modulo of  2 \n",
    "# what is means is that numpy will take each element of the array and make groups of the \"n\" number and the result will be the reamining number\n",
    "# Ex : 9%2 = (1 2) (3 4) (5 6) (7 8) 9 = 1 [como sobra uno entonces el resultado de esta es 1]\n",
    "# Ex : 8%2 = (1 2) (3 4) (5 6) (7 8) = 0 [como no sobra nada entonces el resultado es 0]\n",
    "p%2 \n"
   ]
  },
  {
   "cell_type": "code",
   "execution_count": 6,
   "metadata": {},
   "outputs": [
    {
     "data": {
      "text/plain": [
       "array([ True, False, False])"
      ]
     },
     "execution_count": 6,
     "metadata": {},
     "output_type": "execute_result"
    }
   ],
   "source": [
    "p>8\n",
    "# This is a boolean values that meet the expression or not."
   ]
  },
  {
   "cell_type": "code",
   "execution_count": 7,
   "metadata": {},
   "outputs": [
    {
     "data": {
      "text/plain": [
       "array([False,  True,  True])"
      ]
     },
     "execution_count": 7,
     "metadata": {},
     "output_type": "execute_result"
    }
   ],
   "source": [
    "p<9"
   ]
  },
  {
   "cell_type": "code",
   "execution_count": 37,
   "metadata": {},
   "outputs": [
    {
     "name": "stdout",
     "output_type": "stream",
     "text": [
      "V1: \n",
      " [[1 2]\n",
      " [1 2]]\n",
      "V2: \n",
      " [[1 3]\n",
      " [1 3]]\n"
     ]
    }
   ],
   "source": [
    "# We can print with line separator\n",
    "\n",
    "v1 = np.array([[1,2], [1,2]])\n",
    "v2 = np.array([[1,3], [1,3]])\n",
    "\n",
    "print('V1: \\n', v1)\n",
    "print('V2: \\n', v2)\n",
    "\n",
    "\n",
    "\n"
   ]
  },
  {
   "cell_type": "code",
   "execution_count": 14,
   "metadata": {},
   "outputs": [
    {
     "data": {
      "text/plain": [
       "array([[12, 10, 11],\n",
       "       [ 5,  7,  9]])"
      ]
     },
     "execution_count": 14,
     "metadata": {},
     "output_type": "execute_result"
    }
   ],
   "source": [
    "v1+v2"
   ]
  },
  {
   "cell_type": "code",
   "execution_count": 33,
   "metadata": {},
   "outputs": [
    {
     "data": {
      "text/plain": [
       "array([[3, 9],\n",
       "       [3, 9]])"
      ]
     },
     "execution_count": 33,
     "metadata": {},
     "output_type": "execute_result"
    },
    {
     "data": {
      "text/plain": [
       "array([[3, 9],\n",
       "       [3, 9]])"
      ]
     },
     "execution_count": 33,
     "metadata": {},
     "output_type": "execute_result"
    },
    {
     "data": {
      "text/plain": [
       "'\\nThis only works with a dimention of an array of 2x2 matrix\\n\\nit is a sum product over the last axis of a and the second-last axis of b.\\n\\nimport numpy.matlib \\nimport numpy as np \\n\\na = np.array([[1,2],[3,4]]) \\nb = np.array([[11,12],[13,14]]) \\nnp.dot(a,b)\\nIt will produce the following output −\\n\\n[[37  40] \\n [85  92]] \\nNote that the dot product is calculated as −\\n\\n[[1*11+2*13, 1*12+2*14],[3*11+4*13, 3*12+4*14]]'"
      ]
     },
     "execution_count": 33,
     "metadata": {},
     "output_type": "execute_result"
    }
   ],
   "source": [
    "v1.dot(v2)\n",
    "\n",
    "#es lo mismo que \n",
    "np.dot(v1,v2)\n",
    "\n",
    "'''\n",
    "This only works with a dimention of an array of 2x2 matrix\n",
    "\n",
    "DOT function it is a sum product over the last axis of a and the second-last axis of b.\n",
    "\n",
    "Example!\n",
    "import numpy.matlib \n",
    "import numpy as np \n",
    "\n",
    "a = np.array([[1,2],[3,4]]) \n",
    "b = np.array([[11,12],[13,14]]) \n",
    "np.dot(a,b)\n",
    "It will produce the following output −\n",
    "\n",
    "[[37  40] \n",
    " [85  92]] \n",
    "Note that the dot product is calculated as −\n",
    "\n",
    "[[1*11+2*13, 1*12+2*14],[3*11+4*13, 3*12+4*14]]'''\n"
   ]
  },
  {
   "cell_type": "code",
   "execution_count": 38,
   "metadata": {},
   "outputs": [
    {
     "data": {
      "text/plain": [
       "array([[4, 8],\n",
       "       [4, 8]])"
      ]
     },
     "execution_count": 38,
     "metadata": {},
     "output_type": "execute_result"
    }
   ],
   "source": [
    "# If I want to multiply all the elements of an array then we use \n",
    "\n",
    "v1 *= 4\n",
    "\n",
    "v1"
   ]
  },
  {
   "cell_type": "code",
   "execution_count": 41,
   "metadata": {},
   "outputs": [
    {
     "data": {
      "text/plain": [
       "46654"
      ]
     },
     "execution_count": 41,
     "metadata": {},
     "output_type": "execute_result"
    },
    {
     "data": {
      "text/plain": [
       "1413"
      ]
     },
     "execution_count": 41,
     "metadata": {},
     "output_type": "execute_result"
    },
    {
     "data": {
      "text/plain": [
       "61428"
      ]
     },
     "execution_count": 41,
     "metadata": {},
     "output_type": "execute_result"
    },
    {
     "data": {
      "text/plain": [
       "15357.0"
      ]
     },
     "execution_count": 41,
     "metadata": {},
     "output_type": "execute_result"
    },
    {
     "name": "stdout",
     "output_type": "stream",
     "text": [
      "Mean : 15357.0\n"
     ]
    }
   ],
   "source": [
    "# Calution of vales by some functions\n",
    "mileage = np.array([1413,4564,8797,46654])\n",
    "\n",
    "mileage.max()\n",
    "mileage.min()\n",
    "mileage.sum()\n",
    "mileage.mean()\n",
    "\n",
    "print ('Mean :', mileage.mean())\n",
    "\n"
   ]
  },
  {
   "cell_type": "code",
   "execution_count": 46,
   "metadata": {},
   "outputs": [
    {
     "data": {
      "text/plain": [
       "array([[ 0,  1,  2,  3],\n",
       "       [ 4,  5,  6,  7],\n",
       "       [ 8,  9, 10, 11],\n",
       "       [12, 13, 14, 15]])"
      ]
     },
     "execution_count": 46,
     "metadata": {},
     "output_type": "execute_result"
    },
    {
     "data": {
      "text/plain": [
       "120"
      ]
     },
     "execution_count": 46,
     "metadata": {},
     "output_type": "execute_result"
    },
    {
     "data": {
      "text/plain": [
       "array([24, 28, 32, 36])"
      ]
     },
     "execution_count": 46,
     "metadata": {},
     "output_type": "execute_result"
    },
    {
     "data": {
      "text/plain": [
       "array([ 6, 22, 38, 54])"
      ]
     },
     "execution_count": 46,
     "metadata": {},
     "output_type": "execute_result"
    },
    {
     "data": {
      "text/plain": [
       "array([ 0,  4,  8, 12])"
      ]
     },
     "execution_count": 46,
     "metadata": {},
     "output_type": "execute_result"
    }
   ],
   "source": [
    "#How those works in a dimention of 2\n",
    "\n",
    "num = np.arange(16).reshape(4,4)\n",
    "num\n",
    "\n",
    "num.sum() # summ all the values.\n",
    "\n",
    "num.sum(axis = 0) # this sum the element on each column\n",
    "num.sum(axis = 1) # this sum the element on each row\n",
    "\n",
    "\n",
    "num.min(axis = 1)\n",
    "\n"
   ]
  }
 ],
 "metadata": {
  "kernelspec": {
   "display_name": "Python 3",
   "language": "python",
   "name": "python3"
  },
  "language_info": {
   "codemirror_mode": {
    "name": "ipython",
    "version": 3
   },
   "file_extension": ".py",
   "mimetype": "text/x-python",
   "name": "python",
   "nbconvert_exporter": "python",
   "pygments_lexer": "ipython3",
   "version": "3.7.0"
  }
 },
 "nbformat": 4,
 "nbformat_minor": 2
}
