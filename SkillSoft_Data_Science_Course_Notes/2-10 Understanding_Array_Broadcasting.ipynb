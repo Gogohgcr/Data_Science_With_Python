{
 "cells": [
  {
   "cell_type": "code",
   "execution_count": null,
   "metadata": {},
   "outputs": [],
   "source": [
    "#Broadcastin allows to operate on arrayw with mismatched shapes\n",
    "\n",
    "'''\n",
    "Operation between Scalars and arrays are always posible - \n",
    "The Scalar is broadcast over the array\n",
    "Replicate scalat along all dimensions\n",
    "work for all array sizes\n",
    "\n",
    "Operation between two arrays are possible only under certain conditions\n",
    "Shapes should be compatible\n",
    "Compare from last dimension, if not\n",
    "Going up to the first dimension\n",
    "\n",
    "\n",
    "'''\n",
    "'''Conditions\n",
    "The arrays or scalar shapes need to be compatible \n",
    "Multiples in between. \n",
    "\n",
    "Ex in scalars or Scalar vrs Arrays: \n",
    "A= 1 1 1 1 \n",
    "b= 20\n",
    "\n",
    "After broacasting \n",
    "A= 1  1  1  1 \n",
    "b= 20 20 20 20\n",
    "\n",
    "It perfomed oh pairs of arrays of an element-by-element basis\n",
    "\n",
    "\n",
    "But cannot happen when different shape exist. Same happens within the 2d Arrays\n",
    "\n",
    "A= 2  2  2  2  2    \n",
    "b= 20 20 20 20\n",
    "\n",
    "A(2,5) = 2  2  2  2  2    \n",
    "         3  3  3  3  3\n",
    "   \n",
    "b(2,4)= 20 20 20 20\n",
    "        20 20 20 20\n",
    "\n",
    "4 and 5 are not compatible \n",
    "        \n",
    "'''\n",
    "\n",
    "\n",
    "'''\n",
    "\n",
    "\n",
    "'''\n"
   ]
  }
 ],
 "metadata": {
  "kernelspec": {
   "display_name": "Python 3",
   "language": "python",
   "name": "python3"
  },
  "language_info": {
   "codemirror_mode": {
    "name": "ipython",
    "version": 3
   },
   "file_extension": ".py",
   "mimetype": "text/x-python",
   "name": "python",
   "nbconvert_exporter": "python",
   "pygments_lexer": "ipython3",
   "version": "3.7.0"
  }
 },
 "nbformat": 4,
 "nbformat_minor": 2
}
