{
 "cells": [
  {
   "cell_type": "code",
   "execution_count": 14,
   "metadata": {},
   "outputs": [],
   "source": [
    "import numpy as np\n",
    "from IPython.core.interactiveshell import InteractiveShell\n",
    "InteractiveShell.ast_node_interactivity = \"all\""
   ]
  },
  {
   "cell_type": "code",
   "execution_count": 2,
   "metadata": {},
   "outputs": [
    {
     "data": {
      "text/plain": [
       "array([  0,   1,   8,  27,  64, 125, 216, 343, 512, 729], dtype=int32)"
      ]
     },
     "execution_count": 2,
     "metadata": {},
     "output_type": "execute_result"
    }
   ],
   "source": [
    "x= np.arange(10)**3\n",
    "x"
   ]
  },
  {
   "cell_type": "code",
   "execution_count": 13,
   "metadata": {},
   "outputs": [
    {
     "name": "stdout",
     "output_type": "stream",
     "text": [
      "0\n",
      "1\n",
      "8\n",
      "27\n",
      "64\n",
      "125\n",
      "216\n",
      "343\n",
      "512\n",
      "729\n"
     ]
    }
   ],
   "source": [
    "for i in x:\n",
    "    print(i)\n",
    "    "
   ]
  },
  {
   "cell_type": "code",
   "execution_count": 16,
   "metadata": {},
   "outputs": [
    {
     "data": {
      "text/plain": [
       "array([['Samsung', 'Microsoft', 'IBM', 'Spotify', 'Flipkart'],\n",
       "       ['1938', '1975', '1911', '2006', '2007'],\n",
       "       ['489000', '131000', '380000', '3000', '30000']], dtype='<U9')"
      ]
     },
     "execution_count": 16,
     "metadata": {},
     "output_type": "execute_result"
    },
    {
     "name": "stdout",
     "output_type": "stream",
     "text": [
      "Row 0 : ['Samsung' 'Microsoft' 'IBM' 'Spotify' 'Flipkart']\n",
      "Row 1 : ['1938' '1975' '1911' '2006' '2007']\n",
      "Row 2 : ['489000' '131000' '380000' '3000' '30000']\n"
     ]
    }
   ],
   "source": [
    "companies = np.array([['Samsung', 'Microsoft', 'IBM','Spotify','Flipkart']\n",
    "                     ,[1938,1975,1911,2006,2007]\n",
    "                     ,[489000,131000,380000,3000,30000]])\n",
    "\n",
    "companies\n",
    "\n",
    "i = 0\n",
    "\n",
    "for row in companies:\n",
    "    print('Row', i, ':', row)\n",
    "    i += 1\n"
   ]
  },
  {
   "cell_type": "code",
   "execution_count": 17,
   "metadata": {},
   "outputs": [
    {
     "data": {
      "text/plain": [
       "array(['Samsung', 'Microsoft', 'IBM', 'Spotify', 'Flipkart', '1938',\n",
       "       '1975', '1911', '2006', '2007', '489000', '131000', '380000',\n",
       "       '3000', '30000'], dtype='<U9')"
      ]
     },
     "execution_count": 17,
     "metadata": {},
     "output_type": "execute_result"
    }
   ],
   "source": [
    "#Flatten\n",
    "'''ndarray.flatten(order='C')\n",
    "Return a copy of the array collapsed into one dimension.'''\n",
    "\n",
    "companies.flatten()\n",
    "\n"
   ]
  },
  {
   "cell_type": "code",
   "execution_count": 20,
   "metadata": {},
   "outputs": [
    {
     "data": {
      "text/plain": [
       "\"\\nOrder Arguments\\nC Is Contiguous layout. Mathematically speaking, row major.\\nF Is Fortran contiguous layout. Mathematically speaking, column major.\\nA Is any order. Generally don't use this.\\nK Is keep order. Generally don't use this.\\n\""
      ]
     },
     "execution_count": 20,
     "metadata": {},
     "output_type": "execute_result"
    },
    {
     "name": "stdout",
     "output_type": "stream",
     "text": [
      "Samsung\n",
      "1938\n",
      "489000\n",
      "Microsoft\n",
      "1975\n",
      "131000\n",
      "IBM\n",
      "1911\n",
      "380000\n",
      "Spotify\n",
      "2006\n",
      "3000\n",
      "Flipkart\n",
      "2007\n",
      "30000\n",
      "-------------------\n",
      "Samsung\n",
      "Microsoft\n",
      "IBM\n",
      "Spotify\n",
      "Flipkart\n",
      "1938\n",
      "1975\n",
      "1911\n",
      "2006\n",
      "2007\n",
      "489000\n",
      "131000\n",
      "380000\n",
      "3000\n",
      "30000\n"
     ]
    }
   ],
   "source": [
    "\n",
    "'''\n",
    "Order Arguments\n",
    "C Is Contiguous layout. Mathematically speaking, row major.\n",
    "F Is Fortran contiguous layout. Mathematically speaking, column major.\n",
    "A Is any order. Generally don't use this.\n",
    "K Is keep order. Generally don't use this.\n",
    "'''\n",
    "\n",
    "for data in companies.flatten(order = 'F'):\n",
    "    print(data)\n",
    "    \n",
    "print('-------------------')\n",
    "    \n",
    "for data in companies.flatten(order = 'C'):\n",
    "    print(data)\n",
    "\n"
   ]
  },
  {
   "cell_type": "code",
   "execution_count": 30,
   "metadata": {},
   "outputs": [
    {
     "data": {
      "text/plain": [
       "array([[ 0,  1,  2,  3],\n",
       "       [ 4,  5,  6,  7],\n",
       "       [ 8,  9, 10, 11],\n",
       "       [12, 13, 14, 15]])"
      ]
     },
     "execution_count": 30,
     "metadata": {},
     "output_type": "execute_result"
    },
    {
     "name": "stdout",
     "output_type": "stream",
     "text": [
      "0\n",
      "1\n",
      "2\n",
      "3\n",
      "4\n",
      "5\n",
      "6\n",
      "7\n",
      "8\n",
      "9\n",
      "10\n",
      "11\n",
      "12\n",
      "13\n",
      "14\n",
      "15\n",
      "------------------\n",
      "0\n",
      "4\n",
      "8\n",
      "12\n",
      "1\n",
      "5\n",
      "9\n",
      "13\n",
      "2\n",
      "6\n",
      "10\n",
      "14\n",
      "3\n",
      "7\n",
      "11\n",
      "15\n"
     ]
    }
   ],
   "source": [
    "num = np.arange(16).reshape(4,4)\n",
    "num\n",
    "\n",
    "# We Iterate on each of the elements of the array instead of each of the rows\n",
    "for i in np.nditer(num):\n",
    "    print (i)\n",
    "\n",
    "    \n",
    "print('------------------')\n",
    "# If we want to do it but by column then can be done like:\n",
    "\n",
    "for i in np.nditer(num, order ='F'):\n",
    "    print (i)\n",
    "    \n"
   ]
  },
  {
   "cell_type": "code",
   "execution_count": 39,
   "metadata": {},
   "outputs": [
    {
     "data": {
      "text/plain": [
       "'\\nThis is the link for each of the nduter arguments\\nhttps://het.as.utexas.edu/HET/Software/Numpy/reference/generated/numpy.nditer.html\\n\\n“external_loop” causes the values given to be one-dimensional arrays with multiple values instead of zero-dimensional arrays.\\n\\n'"
      ]
     },
     "execution_count": 39,
     "metadata": {},
     "output_type": "execute_result"
    },
    {
     "name": "stdout",
     "output_type": "stream",
     "text": [
      "[ 0  1  2  3  4  5  6  7  8  9 10 11 12 13 14 15]\n",
      "************\n",
      "[ 0  4  8 12]\n",
      "[ 1  5  9 13]\n",
      "[ 2  6 10 14]\n",
      "[ 3  7 11 15]\n"
     ]
    }
   ],
   "source": [
    "'''\n",
    "This is the link for each of the nduter arguments\n",
    "https://het.as.utexas.edu/HET/Software/Numpy/reference/generated/numpy.nditer.html\n",
    "\n",
    "“external_loop” causes the values given to be one-dimensional arrays with multiple values instead of zero-dimensional arrays.\n",
    "\n",
    "'''\n",
    "\n",
    "for i in np.nditer(num, flags = ['external_loop']):\n",
    "    print (i) \n",
    " \n",
    "print ('************')\n",
    "\n",
    "# In this case as it has the order parameter as Fortain so it will take the values by column\n",
    "# So it will create an arry per each column looking like we if did a transpose of the rows\n",
    "\n",
    "for i in np.nditer(num,order = 'F', flags = ['external_loop']):\n",
    "    print (i) \n",
    "\n",
    "    \n",
    "\n"
   ]
  },
  {
   "cell_type": "code",
   "execution_count": 41,
   "metadata": {},
   "outputs": [
    {
     "ename": "ValueError",
     "evalue": "assignment destination is read-only",
     "output_type": "error",
     "traceback": [
      "\u001b[1;31m---------------------------------------------------------------------------\u001b[0m",
      "\u001b[1;31mValueError\u001b[0m                                Traceback (most recent call last)",
      "\u001b[1;32m<ipython-input-41-e649d948117c>\u001b[0m in \u001b[0;36m<module>\u001b[1;34m()\u001b[0m\n\u001b[0;32m      2\u001b[0m \u001b[1;33m\u001b[0m\u001b[0m\n\u001b[0;32m      3\u001b[0m \u001b[1;32mfor\u001b[0m \u001b[0marray\u001b[0m \u001b[1;32min\u001b[0m \u001b[0mnp\u001b[0m\u001b[1;33m.\u001b[0m\u001b[0mnditer\u001b[0m\u001b[1;33m(\u001b[0m\u001b[0mnum\u001b[0m\u001b[1;33m)\u001b[0m\u001b[1;33m:\u001b[0m\u001b[1;33m\u001b[0m\u001b[0m\n\u001b[1;32m----> 4\u001b[1;33m     \u001b[0marray\u001b[0m\u001b[1;33m[\u001b[0m\u001b[1;33m...\u001b[0m\u001b[1;33m]\u001b[0m \u001b[1;33m=\u001b[0m \u001b[0marray\u001b[0m \u001b[1;33m*\u001b[0m \u001b[0marray\u001b[0m\u001b[1;33m\u001b[0m\u001b[0m\n\u001b[0m\u001b[0;32m      5\u001b[0m \u001b[1;33m\u001b[0m\u001b[0m\n\u001b[0;32m      6\u001b[0m \u001b[1;31m# we can change this by writing.\u001b[0m\u001b[1;33m\u001b[0m\u001b[1;33m\u001b[0m\u001b[0m\n",
      "\u001b[1;31mValueError\u001b[0m: assignment destination is read-only"
     ]
    }
   ],
   "source": [
    "#This array will give an error as it is defined the array as read only so\n",
    "\n",
    "for array in np.nditer(num):\n",
    "    array[...] = array * array\n",
    "    \n",
    "\n",
    "\n",
    "    \n",
    "    "
   ]
  },
  {
   "cell_type": "code",
   "execution_count": 44,
   "metadata": {},
   "outputs": [
    {
     "data": {
      "text/plain": [
       "array([[          0,           1,         256,        6561],\n",
       "       [      65536,      390625,     1679616,     5764801],\n",
       "       [   16777216,    43046721,   100000000,   214358881],\n",
       "       [  429981696,   815730721,  1475789056, -1732076671]])"
      ]
     },
     "execution_count": 44,
     "metadata": {},
     "output_type": "execute_result"
    }
   ],
   "source": [
    "# we can change this by writing. \n",
    "\n",
    "for array in np.nditer(num, op_flags = ['readwrite']):\n",
    "    array[...] = array * array\n",
    "\n",
    "num"
   ]
  },
  {
   "cell_type": "code",
   "execution_count": null,
   "metadata": {},
   "outputs": [],
   "source": []
  }
 ],
 "metadata": {
  "kernelspec": {
   "display_name": "Python 3",
   "language": "python",
   "name": "python3"
  },
  "language_info": {
   "codemirror_mode": {
    "name": "ipython",
    "version": 3
   },
   "file_extension": ".py",
   "mimetype": "text/x-python",
   "name": "python",
   "nbconvert_exporter": "python",
   "pygments_lexer": "ipython3",
   "version": "3.7.0"
  }
 },
 "nbformat": 4,
 "nbformat_minor": 2
}
