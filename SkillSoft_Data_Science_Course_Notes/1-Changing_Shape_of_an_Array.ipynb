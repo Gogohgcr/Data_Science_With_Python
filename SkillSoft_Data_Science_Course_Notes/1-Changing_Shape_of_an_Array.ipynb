{
 "cells": [
  {
   "cell_type": "code",
   "execution_count": 2,
   "metadata": {},
   "outputs": [],
   "source": [
    "import numpy as np\n",
    "from IPython.core.interactiveshell import InteractiveShell\n",
    "InteractiveShell.ast_node_interactivity = \"all\""
   ]
  },
  {
   "cell_type": "code",
   "execution_count": 3,
   "metadata": {},
   "outputs": [
    {
     "data": {
      "text/plain": [
       "array([['IMB', 'Apple Inc.', 'Intel', 'Dell', 'Microsoft'],\n",
       "       ['New York', 'California', 'California', 'Texas', 'Washington']],\n",
       "      dtype='<U10')"
      ]
     },
     "execution_count": 3,
     "metadata": {},
     "output_type": "execute_result"
    }
   ],
   "source": [
    "tech_companies = np.array([('IMB','Apple Inc.','Intel','Dell','Microsoft'),\n",
    "                           ('New York','California','California', 'Texas', 'Washington')])\n",
    "\n",
    "tech_companies"
   ]
  },
  {
   "cell_type": "code",
   "execution_count": 4,
   "metadata": {},
   "outputs": [
    {
     "data": {
      "text/plain": [
       "(2, 5)"
      ]
     },
     "execution_count": 4,
     "metadata": {},
     "output_type": "execute_result"
    }
   ],
   "source": [
    "tech_companies.shape\n",
    "#2 rows 5 columns"
   ]
  },
  {
   "cell_type": "code",
   "execution_count": 6,
   "metadata": {},
   "outputs": [
    {
     "data": {
      "text/plain": [
       "array(['IMB', 'Apple Inc.', 'Intel', 'Dell', 'Microsoft', 'New York',\n",
       "       'California', 'California', 'Texas', 'Washington'], dtype='<U10')"
      ]
     },
     "execution_count": 6,
     "metadata": {},
     "output_type": "execute_result"
    }
   ],
   "source": [
    "# Ravel() is similar than Flatten()\n",
    "# Diference that revel is only for Numpy arrays object. Flatten can be used on numpy or no numpy arrays.\n",
    "tech_companies.ravel()  \n",
    "\n"
   ]
  },
  {
   "cell_type": "code",
   "execution_count": 8,
   "metadata": {},
   "outputs": [
    {
     "data": {
      "text/plain": [
       "array([['IMB', 'New York'],\n",
       "       ['Apple Inc.', 'California'],\n",
       "       ['Intel', 'California'],\n",
       "       ['Dell', 'Texas'],\n",
       "       ['Microsoft', 'Washington']], dtype='<U10')"
      ]
     },
     "execution_count": 8,
     "metadata": {},
     "output_type": "execute_result"
    },
    {
     "data": {
      "text/plain": [
       "array(['IMB', 'New York', 'Apple Inc.', 'California', 'Intel',\n",
       "       'California', 'Dell', 'Texas', 'Microsoft', 'Washington'],\n",
       "      dtype='<U10')"
      ]
     },
     "execution_count": 8,
     "metadata": {},
     "output_type": "execute_result"
    }
   ],
   "source": [
    "#Transpose\n",
    "\n",
    "tech_companies.T\n",
    "\n",
    "#this give all in 1 dimension but transpose.\n",
    "tech_companies.T.ravel()"
   ]
  },
  {
   "cell_type": "code",
   "execution_count": 10,
   "metadata": {},
   "outputs": [
    {
     "data": {
      "text/plain": [
       "(2, 5)"
      ]
     },
     "execution_count": 10,
     "metadata": {},
     "output_type": "execute_result"
    }
   ],
   "source": [
    "tech_companies.shape"
   ]
  },
  {
   "cell_type": "code",
   "execution_count": 11,
   "metadata": {},
   "outputs": [
    {
     "data": {
      "text/plain": [
       "array([['IMB', 'Apple Inc.'],\n",
       "       ['Intel', 'Dell'],\n",
       "       ['Microsoft', 'New York'],\n",
       "       ['California', 'California'],\n",
       "       ['Texas', 'Washington']], dtype='<U10')"
      ]
     },
     "execution_count": 11,
     "metadata": {},
     "output_type": "execute_result"
    }
   ],
   "source": [
    "tech_companies.reshape(5,2)"
   ]
  },
  {
   "cell_type": "code",
   "execution_count": 13,
   "metadata": {},
   "outputs": [
    {
     "data": {
      "text/plain": [
       "array([[ 0,  1,  2,  3,  4,  5],\n",
       "       [ 6,  7,  8,  9, 10, 11],\n",
       "       [12, 13, 14, 15, 16, 17]])"
      ]
     },
     "execution_count": 13,
     "metadata": {},
     "output_type": "execute_result"
    }
   ],
   "source": [
    "np.arange(18).reshape(3,6)"
   ]
  },
  {
   "cell_type": "code",
   "execution_count": 29,
   "metadata": {},
   "outputs": [
    {
     "data": {
      "text/plain": [
       "\"\\nThe criterion to satisfy for providing the new shape is that 'The new shape should be compatible with the original shape'\\n\\nnumpy allow us to give one of new shape parameter as -1 (eg: (2,-1) or (-1,3) but not (-1, -1)). \\nIt simply means that it is an unknown dimension and we want numpy to figure it out. \\nAnd numpy will figure this by looking at the 'length of the array and remaining dimensions' \\nand making sure it satisfies the above mentioned criteria\\n\""
      ]
     },
     "execution_count": 29,
     "metadata": {},
     "output_type": "execute_result"
    },
    {
     "data": {
      "text/plain": [
       "array([['IMB', 'Apple Inc.', 'Intel', 'Dell', 'Microsoft', 'New York',\n",
       "        'California', 'California', 'Texas', 'Washington']], dtype='<U10')"
      ]
     },
     "execution_count": 29,
     "metadata": {},
     "output_type": "execute_result"
    },
    {
     "data": {
      "text/plain": [
       "array([['IMB'],\n",
       "       ['Apple Inc.'],\n",
       "       ['Intel'],\n",
       "       ['Dell'],\n",
       "       ['Microsoft'],\n",
       "       ['New York'],\n",
       "       ['California'],\n",
       "       ['California'],\n",
       "       ['Texas'],\n",
       "       ['Washington']], dtype='<U10')"
      ]
     },
     "execution_count": 29,
     "metadata": {},
     "output_type": "execute_result"
    },
    {
     "data": {
      "text/plain": [
       "array([['IMB', 'Apple Inc.', 'Intel', 'Dell', 'Microsoft'],\n",
       "       ['New York', 'California', 'California', 'Texas', 'Washington']],\n",
       "      dtype='<U10')"
      ]
     },
     "execution_count": 29,
     "metadata": {},
     "output_type": "execute_result"
    },
    {
     "data": {
      "text/plain": [
       "array([['IMB', 'Apple Inc.'],\n",
       "       ['Intel', 'Dell'],\n",
       "       ['Microsoft', 'New York'],\n",
       "       ['California', 'California'],\n",
       "       ['Texas', 'Washington']], dtype='<U10')"
      ]
     },
     "execution_count": 29,
     "metadata": {},
     "output_type": "execute_result"
    },
    {
     "data": {
      "text/plain": [
       "array([['IMB', 'Apple Inc.'],\n",
       "       ['Intel', 'Dell'],\n",
       "       ['Microsoft', 'New York'],\n",
       "       ['California', 'California'],\n",
       "       ['Texas', 'Washington']], dtype='<U10')"
      ]
     },
     "execution_count": 29,
     "metadata": {},
     "output_type": "execute_result"
    }
   ],
   "source": [
    "# -1 means the we will let numpy do whaterver in order to meet the expectation of the array.\n",
    "'''\n",
    "The criterion to satisfy for providing the new shape is that 'The new shape should be compatible with the original shape'\n",
    "\n",
    "numpy allow us to give one of new shape parameter as -1 (eg: (2,-1) or (-1,3) but not (-1, -1)). \n",
    "It simply means that it is an unknown dimension and we want numpy to figure it out. \n",
    "And numpy will figure this by looking at the 'length of the array and remaining dimensions' \n",
    "and making sure it satisfies the above mentioned criteria\n",
    "'''\n",
    "\n",
    "tech_companies.reshape(-1,10)\n",
    "\n",
    "tech_companies.reshape(10,-1)\n",
    "\n",
    "tech_companies.reshape(2,-1)\n",
    "\n",
    "tech_companies.reshape(5,-1)\n",
    "tech_companies.reshape(-1,2)"
   ]
  }
 ],
 "metadata": {
  "kernelspec": {
   "display_name": "Python 3",
   "language": "python",
   "name": "python3"
  },
  "language_info": {
   "codemirror_mode": {
    "name": "ipython",
    "version": 3
   },
   "file_extension": ".py",
   "mimetype": "text/x-python",
   "name": "python",
   "nbconvert_exporter": "python",
   "pygments_lexer": "ipython3",
   "version": "3.7.0"
  }
 },
 "nbformat": 4,
 "nbformat_minor": 2
}
