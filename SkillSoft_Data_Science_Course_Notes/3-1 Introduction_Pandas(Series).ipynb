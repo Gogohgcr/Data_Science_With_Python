{
 "cells": [
  {
   "cell_type": "code",
   "execution_count": 1,
   "metadata": {},
   "outputs": [
    {
     "name": "stdout",
     "output_type": "stream",
     "text": [
      "Requirement already satisfied: pandas in c:\\programdata\\anaconda3\\lib\\site-packages (0.23.4)\n",
      "Requirement already satisfied: python-dateutil>=2.5.0 in c:\\programdata\\anaconda3\\lib\\site-packages (from pandas) (2.7.3)\n",
      "Requirement already satisfied: pytz>=2011k in c:\\programdata\\anaconda3\\lib\\site-packages (from pandas) (2018.5)\n",
      "Requirement already satisfied: numpy>=1.9.0 in c:\\programdata\\anaconda3\\lib\\site-packages (from pandas) (1.15.4)\n",
      "Requirement already satisfied: six>=1.5 in c:\\programdata\\anaconda3\\lib\\site-packages (from python-dateutil>=2.5.0->pandas) (1.11.0)\n",
      "Could not fetch URL https://pypi.org/simple/pip/: There was a problem confirming the ssl certificate: HTTPSConnectionPool(host='pypi.org', port=443): Max retries exceeded with url: /simple/pip/ (Caused by SSLError(SSLError(1, '[SSL: TLSV1_ALERT_ACCESS_DENIED] tlsv1 alert access denied (_ssl.c:1045)'))) - skipping\n"
     ]
    },
    {
     "name": "stderr",
     "output_type": "stream",
     "text": [
      "twisted 18.7.0 requires PyHamcrest>=1.9.0, which is not installed.\n"
     ]
    }
   ],
   "source": [
    "#Intall pandas\n",
    "!pip install pandas\n",
    "\n",
    "#It is already install"
   ]
  },
  {
   "cell_type": "code",
   "execution_count": 14,
   "metadata": {},
   "outputs": [],
   "source": [
    "import pandas as pd\n",
    "import sys\n",
    "\n",
    "\n",
    "from IPython.core.interactiveshell import InteractiveShell\n",
    "InteractiveShell.ast_node_interactivity = \"all\""
   ]
  },
  {
   "cell_type": "code",
   "execution_count": 4,
   "metadata": {},
   "outputs": [
    {
     "name": "stdout",
     "output_type": "stream",
     "text": [
      "Python Version:3.7.0 (default, Jun 28 2018, 08:04:48) [MSC v.1912 64 bit (AMD64)]\n"
     ]
    }
   ],
   "source": [
    "print('Python Version:' + sys.version)\n",
    "\n"
   ]
  },
  {
   "cell_type": "code",
   "execution_count": 7,
   "metadata": {},
   "outputs": [
    {
     "name": "stdout",
     "output_type": "stream",
     "text": [
      "Pandas Version:0.23.4\n"
     ]
    }
   ],
   "source": [
    "print('Pandas Version:' + pd.__version__)"
   ]
  },
  {
   "cell_type": "code",
   "execution_count": 10,
   "metadata": {},
   "outputs": [
    {
     "data": {
      "text/plain": [
       "['Sunday', 'Monday', 'Tuesday', 'Wednesday', 'Thursday', 'Friday', 'Saturday']"
      ]
     },
     "execution_count": 10,
     "metadata": {},
     "output_type": "execute_result"
    }
   ],
   "source": [
    "#Creating a PYthon list\n",
    "\n",
    "data = ['Sunday',\n",
    "       'Monday',\n",
    "       'Tuesday',\n",
    "       'Wednesday',\n",
    "       'Thursday',\n",
    "       'Friday',\n",
    "       'Saturday']\n",
    "data"
   ]
  },
  {
   "cell_type": "code",
   "execution_count": 9,
   "metadata": {},
   "outputs": [
    {
     "data": {
      "text/plain": [
       "0       Sunday\n",
       "1       Monday\n",
       "2      Tuesday\n",
       "3    Wednesday\n",
       "4     Thursday\n",
       "5       Friday\n",
       "6     Saturday\n",
       "dtype: object"
      ]
     },
     "execution_count": 9,
     "metadata": {},
     "output_type": "execute_result"
    }
   ],
   "source": [
    "#Transforming the list into a Pandas Series (Pandas Object)\n",
    "#Series Differ on a pandas Series Index can be a label, that is, it can be a string and not just a\n",
    "# number representing the position of the data in the series\n",
    "\n",
    "#This is why in the output below has the numbers as index of the list/\n",
    "\n",
    "\n",
    "week = pd.Series(data)\n",
    "week"
   ]
  },
  {
   "cell_type": "code",
   "execution_count": 11,
   "metadata": {},
   "outputs": [],
   "source": [
    "#Also we can create a Pandas Object from a numpy array. \n",
    "#This is quite simple a Pandas is top of Numpy\n",
    "\n",
    "import numpy as np"
   ]
  },
  {
   "cell_type": "code",
   "execution_count": 12,
   "metadata": {},
   "outputs": [],
   "source": [
    "#Create a numpy array. \n",
    "\n",
    "square_numbers = np.array([0,1,4,9,16,\n",
    "                           25,36,49,64,81,\n",
    "                           100,121,144,169])"
   ]
  },
  {
   "cell_type": "code",
   "execution_count": 13,
   "metadata": {},
   "outputs": [
    {
     "data": {
      "text/plain": [
       "0       0\n",
       "1       1\n",
       "2       4\n",
       "3       9\n",
       "4      16\n",
       "5      25\n",
       "6      36\n",
       "7      49\n",
       "8      64\n",
       "9      81\n",
       "10    100\n",
       "11    121\n",
       "12    144\n",
       "13    169\n",
       "dtype: int32"
      ]
     },
     "execution_count": 13,
     "metadata": {},
     "output_type": "execute_result"
    }
   ],
   "source": [
    "#Tranfoming the numpy array into the pandas Series\n",
    "square_numbers = pd.Series(square_numbers)\n",
    "square_numbers"
   ]
  },
  {
   "cell_type": "markdown",
   "metadata": {},
   "source": [
    "# Working with Pandas"
   ]
  },
  {
   "cell_type": "code",
   "execution_count": 16,
   "metadata": {},
   "outputs": [
    {
     "data": {
      "text/plain": [
       "F_name         Susie\n",
       "L_Name     Schneider\n",
       "Emp_Id       2258788\n",
       "Dept      Accounting\n",
       "dtype: object"
      ]
     },
     "execution_count": 16,
     "metadata": {},
     "output_type": "execute_result"
    }
   ],
   "source": [
    "# We can modify the series index as explained before.\n",
    "\n",
    "# Couple of python lists\n",
    "employee_fields = ['F_name','L_Name','Emp_Id','Dept']\n",
    "employee_data = ['Susie', 'Schneider', '2258788', 'Accounting']\n",
    "\n",
    "employee_series = pd.Series(index= employee_fields,\n",
    "                           data= employee_data)\n",
    "\n",
    "employee_series"
   ]
  },
  {
   "cell_type": "code",
   "execution_count": 25,
   "metadata": {},
   "outputs": [
    {
     "data": {
      "text/plain": [
       "'Dictionary'"
      ]
     },
     "execution_count": 25,
     "metadata": {},
     "output_type": "execute_result"
    },
    {
     "data": {
      "text/plain": [
       "{'Afghanistan': 'Kabul',\n",
       " 'Australia': 'Camberra',\n",
       " 'Bangladesh': 'Dhaka',\n",
       " 'China': 'Beijing',\n",
       " 'France': 'Paris',\n",
       " 'India': 'New Delhi',\n",
       " 'Italy': 'Rome',\n",
       " 'USA': 'Washintong D.C'}"
      ]
     },
     "execution_count": 25,
     "metadata": {},
     "output_type": "execute_result"
    },
    {
     "data": {
      "text/plain": [
       "'Pandas Series'"
      ]
     },
     "execution_count": 25,
     "metadata": {},
     "output_type": "execute_result"
    },
    {
     "data": {
      "text/plain": [
       "Afghanistan             Kabul\n",
       "Australia            Camberra\n",
       "Bangladesh              Dhaka\n",
       "China                 Beijing\n",
       "France                  Paris\n",
       "India               New Delhi\n",
       "Italy                    Rome\n",
       "USA            Washintong D.C\n",
       "dtype: object"
      ]
     },
     "execution_count": 25,
     "metadata": {},
     "output_type": "execute_result"
    }
   ],
   "source": [
    "#Another way to specify the index and data on a pandas series\n",
    "# This is by using dictionaries. \n",
    "\n",
    "country_capitals_dict = {'Afghanistan' : 'Kabul',\n",
    "                        'Australia' : 'Camberra',\n",
    "                        'Bangladesh' : 'Dhaka',\n",
    "                        'China' : 'Beijing',\n",
    "                         'France' : 'Paris',\n",
    "                         'India' : 'New Delhi',\n",
    "                         'Italy' : 'Rome',\n",
    "                         'USA' : 'Washintong D.C'\n",
    "                        }\n",
    "'''Dictionary'''\n",
    "country_capitals_dict\n",
    "\n",
    "\n",
    "'''Pandas Series'''\n",
    "country_capitals_series = pd.Series(country_capitals_dict)\n",
    "country_capitals_series\n",
    "\n",
    "\n"
   ]
  },
  {
   "cell_type": "code",
   "execution_count": 27,
   "metadata": {},
   "outputs": [
    {
     "data": {
      "text/plain": [
       "array(['Kabul', 'Camberra', 'Dhaka', 'Beijing', 'Paris', 'New Delhi',\n",
       "       'Rome', 'Washintong D.C'], dtype=object)"
      ]
     },
     "execution_count": 27,
     "metadata": {},
     "output_type": "execute_result"
    },
    {
     "data": {
      "text/plain": [
       "numpy.ndarray"
      ]
     },
     "execution_count": 27,
     "metadata": {},
     "output_type": "execute_result"
    }
   ],
   "source": [
    "# Accesing the data to the pandas Series that has been loaded\n",
    "\n",
    "#entire dara\n",
    "country_capitals_series.values\n",
    "#This will show an array \n",
    "\n",
    "#What Type do array are in the values?\n",
    "type(country_capitals_series.values)\n",
    "#This confirm that Pandas is build in top of Numpy\n"
   ]
  },
  {
   "cell_type": "code",
   "execution_count": 28,
   "metadata": {},
   "outputs": [
    {
     "data": {
      "text/plain": [
       "Index(['Afghanistan', 'Australia', 'Bangladesh', 'China', 'France', 'India',\n",
       "       'Italy', 'USA'],\n",
       "      dtype='object')"
      ]
     },
     "execution_count": 28,
     "metadata": {},
     "output_type": "execute_result"
    }
   ],
   "source": [
    "# This will return the indexes of the pandas series as a list. \n",
    "# This index is simple an immutable ndarray object. \n",
    "\n",
    "country_capitals_series.index"
   ]
  },
  {
   "cell_type": "code",
   "execution_count": 31,
   "metadata": {},
   "outputs": [
    {
     "data": {
      "text/plain": [
       "'Kabul'"
      ]
     },
     "execution_count": 31,
     "metadata": {},
     "output_type": "execute_result"
    }
   ],
   "source": [
    "#Access 1 data point of the series object, need to us the indexs.\n",
    "\n",
    "country_capitals_series[0]\n",
    "\n",
    "\n"
   ]
  },
  {
   "cell_type": "code",
   "execution_count": 32,
   "metadata": {},
   "outputs": [
    {
     "data": {
      "text/plain": [
       "Australia     Camberra\n",
       "Bangladesh       Dhaka\n",
       "China          Beijing\n",
       "France           Paris\n",
       "dtype: object"
      ]
     },
     "execution_count": 32,
     "metadata": {},
     "output_type": "execute_result"
    }
   ],
   "source": [
    "#Also can get a slice of a pandas Series\n",
    "#It will show the index and the data\n",
    "\n",
    "country_capitals_series[1:5]\n"
   ]
  },
  {
   "cell_type": "code",
   "execution_count": 35,
   "metadata": {},
   "outputs": [
    {
     "data": {
      "text/plain": [
       "'Beijing'"
      ]
     },
     "execution_count": 35,
     "metadata": {},
     "output_type": "execute_result"
    },
    {
     "data": {
      "text/plain": [
       "Afghanistan             Kabul\n",
       "France                  Paris\n",
       "India               New Delhi\n",
       "USA            Washintong D.C\n",
       "dtype: object"
      ]
     },
     "execution_count": 35,
     "metadata": {},
     "output_type": "execute_result"
    }
   ],
   "source": [
    "#WE can use the index name also in order to get vakues of that specific index value\n",
    "\n",
    "country_capitals_series['China']\n",
    "\n",
    "#For multiple data points in the Series\n",
    "# It need to be inside of another [] to say that is a list of values to read. \n",
    "\n",
    "country_capitals_series[['Afghanistan', 'France', 'India','USA']]\n"
   ]
  },
  {
   "cell_type": "code",
   "execution_count": null,
   "metadata": {},
   "outputs": [],
   "source": []
  },
  {
   "cell_type": "code",
   "execution_count": null,
   "metadata": {},
   "outputs": [],
   "source": []
  }
 ],
 "metadata": {
  "kernelspec": {
   "display_name": "Python 3",
   "language": "python",
   "name": "python3"
  },
  "language_info": {
   "codemirror_mode": {
    "name": "ipython",
    "version": 3
   },
   "file_extension": ".py",
   "mimetype": "text/x-python",
   "name": "python",
   "nbconvert_exporter": "python",
   "pygments_lexer": "ipython3",
   "version": "3.7.0"
  }
 },
 "nbformat": 4,
 "nbformat_minor": 2
}
