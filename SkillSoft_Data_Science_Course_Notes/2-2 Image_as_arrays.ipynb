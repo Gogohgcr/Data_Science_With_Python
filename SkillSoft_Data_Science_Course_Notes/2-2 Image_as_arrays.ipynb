{
 "cells": [
  {
   "cell_type": "code",
   "execution_count": 1,
   "metadata": {},
   "outputs": [],
   "source": [
    "\n",
    "'''\n",
    "\n",
    "RGB Images\n",
    "\n",
    "***For color images, each pixel has an RGB value\n",
    "(R(Red), G(green), B(Blue)) : 0-255\n",
    "\n",
    "Three vlaues to represent a pixel in an image \n",
    "\n",
    "RED  = (255,0,0)\n",
    "Green= (0,255,0)\n",
    "Blue = (0,0,255)\n",
    "\n",
    "***For GrayScale Images\n",
    "\n",
    "Every pixel only represents the intensity information (Black and White colors)\n",
    "(0.0 (Black) to 1.0(White))\n",
    "(0 (Black) to 255 (White))\n",
    "Values in between are different type of grays\n",
    "'''\n",
    "\n",
    "'''\n",
    "Images are multidimenstional arrays\n",
    "Images can be represented by a 3D matrix\n",
    "\n",
    "In the 3D dimenstion the number of channels specifies the number of elements in the third dimension (row, colum, 3rd dimention)\n",
    "\n",
    "In the color images will have 3 channels as it requires the RGB values to specifiy every pixel (4,4,3)\n",
    "In the gray images will have only 1 element  (4,4,1)\n",
    "\n",
    "'''\n"
   ]
  }
 ],
 "metadata": {
  "kernelspec": {
   "display_name": "Python 3",
   "language": "python",
   "name": "python3"
  },
  "language_info": {
   "codemirror_mode": {
    "name": "ipython",
    "version": 3
   },
   "file_extension": ".py",
   "mimetype": "text/x-python",
   "name": "python",
   "nbconvert_exporter": "python",
   "pygments_lexer": "ipython3",
   "version": "3.7.0"
  }
 },
 "nbformat": 4,
 "nbformat_minor": 2
}
